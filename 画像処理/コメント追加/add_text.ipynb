{
 "cells": [
  {
   "cell_type": "code",
   "execution_count": null,
   "metadata": {},
   "outputs": [],
   "source": [
    "from PIL import Image, ImageDraw, ImageFont"
   ]
  },
  {
   "cell_type": "code",
   "execution_count": null,
   "metadata": {},
   "outputs": [],
   "source": [
    "text = 'Rui chan!!!'             # 画像に追加する文字列を指定\n",
    "img = Image.open('rui.jpg') # 入力ファイルを指定\n",
    "\n",
    "imagesize = img.size        # img.size[0]は幅、img.size[1]は高さを表す\n",
    "draw = ImageDraw.Draw(img)  # ImageDrawオブジェクトを作成\n",
    "\n",
    "font = ImageFont.truetype(\"arial.ttf\", 48)  # フォントを指定、64はサイズでピクセル単位\n",
    "size = font.getsize(text)\n",
    "\n",
    "#draw.text((imagesize[0] - size[0], imagesize[1] - size[1]), text, font=font, fill='#FFF')\n",
    "draw.text((0, 0), text, font=font, fill='#FFF')\n",
    "print(imagesize[0] - size[0])\n",
    "print(imagesize[1] - size[1])\n",
    "# ファイルを保存\n",
    "img.save('rui_text_added.png', 'PNG', quality=100, optimize=True)"
   ]
  },
  {
   "cell_type": "code",
   "execution_count": null,
   "metadata": {},
   "outputs": [],
   "source": []
  }
 ],
 "metadata": {
  "kernelspec": {
   "display_name": "Python 3",
   "language": "python",
   "name": "python3"
  },
  "language_info": {
   "codemirror_mode": {
    "name": "ipython",
    "version": 3
   },
   "file_extension": ".py",
   "mimetype": "text/x-python",
   "name": "python",
   "nbconvert_exporter": "python",
   "pygments_lexer": "ipython3",
   "version": "3.8.8"
  }
 },
 "nbformat": 4,
 "nbformat_minor": 4
}
