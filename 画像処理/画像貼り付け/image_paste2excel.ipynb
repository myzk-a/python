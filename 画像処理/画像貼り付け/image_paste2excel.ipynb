{
 "cells": [
  {
   "cell_type": "code",
   "execution_count": null,
   "metadata": {},
   "outputs": [],
   "source": [
    "import os\n",
    "import glob\n",
    "import imghdr\n",
    "import openpyxl\n",
    "import cv2\n",
    "from openpyxl.utils import get_column_letter\n",
    "from openpyxl.drawing.image import Image as excImage\n",
    " \n",
    "# 定数設定\n",
    "INPUT_IMG_DIR = './images' # 貼り付ける画像を置いておくルートディレクトリ\n",
    "SHEET_TITLE = '画像貼り付け' # シート名の設定\n",
    "RESULT_FILE_NAME = './result.xlsx' # 結果を保存するファイル名\n",
    " \n",
    "# 変数\n",
    "max_height = [] # 各行の画像の高さの最大値を保持"
   ]
  },
  {
   "cell_type": "code",
   "execution_count": null,
   "metadata": {},
   "outputs": [],
   "source": [
    "def get_file_names(set_dir_name):\n",
    "    \"\"\"\n",
    "    ディレクトリ内のファイル名取得（ファイル名のみの一覧を取得）\n",
    "    \"\"\"\n",
    "    file_names = os.listdir(set_dir_name)\n",
    "    temp_full_file_names = [os.path.join(set_dir_name, file_name) for file_name in file_names if os.path.isfile(os.path.join(set_dir_name, file_name))] # ファイルかどうかを判定\n",
    "    return temp_full_file_names"
   ]
  },
  {
   "cell_type": "code",
   "execution_count": null,
   "metadata": {},
   "outputs": [],
   "source": [
    "def attach_img(target_full_file_names, set_column_idx, set_dir_name):\n",
    "    \"\"\"\n",
    "    画像を呼び出して、Excelに貼り付け\n",
    "    \"\"\"\n",
    "    set_row_idx = 1\n",
    "    column_letter = ws.cell(row=set_row_idx, column=set_column_idx).column # セルの行列番号から、そのセルの列番号の文字列を取得\n",
    "    ws.cell(row=1, column=set_column_idx).value = set_dir_name # 各列の1行目に、貼り付ける画像があるディレクトリ名を入力\n",
    "    max_width = 0 # 画像の幅の最大値を保持するための変数\n",
    "    target_full_file_names.sort() # ファイル名でソート\n",
    "    for target_file in target_full_file_names:\n",
    "        if imghdr.what(target_file) != None: # 画像ファイルかどうかの判定\n",
    "            img = openpyxl.drawing.image.Image(target_file)\n",
    "            print('[' + str(column_letter) + '][' + str(set_row_idx+1) + ']' + target_file + 'を貼り付け')\n",
    " \n",
    "            # 画像のサイズを取得して、セルの大きさを合わせる（画像同士が重ならないようにするため）\n",
    "            size_img = cv2.imread(target_file)\n",
    "            height, width = size_img.shape[:2]\n",
    "            if max_width < width:\n",
    "                max_width = width\n",
    "            if not max_height[set_row_idx-1:set_row_idx]: # 配列「max_height」において、「set_row_idx」番目の要素が存在しなければ、挿入\n",
    "                max_height.insert(set_row_idx-1, height)\n",
    "            if max_height[set_row_idx-1] < height:\n",
    "                max_height[set_row_idx-1] = height\n",
    "            ws.row_dimensions[set_row_idx+1].height = max_height[set_row_idx-1] * 0.75\n",
    "            #import pdb; pdb.set_trace()\n",
    "            ws.column_dimensions[str(column_letter)].width = max_width * 0.13\n",
    " \n",
    "            cell_address = ws.cell(row=set_row_idx + 1, column=set_column_idx).coordinate # セルの行列番号から、そのセルの番地を取得\n",
    "            img.anchor = cell_address\n",
    "            ws.add_image(img) # シートに画像貼り付け\n",
    " \n",
    "        set_row_idx += 1"
   ]
  },
  {
   "cell_type": "code",
   "execution_count": null,
   "metadata": {},
   "outputs": [],
   "source": [
    "CHANGE_LINE = 12\n",
    "HEIGHT = 200\n",
    "WIDTH = 36\n",
    "\n",
    "# ワークブック設定\n",
    "wb = openpyxl.Workbook()\n",
    "ws = wb.worksheets[0] # 1番目のシートを編集対象にする\n",
    "ws.title = SHEET_TITLE # 1番目のシートに名前を設定\n",
    "# 貼り付ける画像を置いておくルートディレクトリ内のディレクトリ名を再帰的に取得\n",
    "\n",
    "dir_name = INPUT_IMG_DIR\n",
    "f_names = get_file_names(dir_name) # ファイル名取得\n",
    "f_names.sort();\n",
    "\n",
    "set_row_index = 1\n",
    "set_col_index = 1\n",
    "AtoI = {1:\"A\", 2:\"B\",3:\"C\", 4:\"D\",5:\"E\", 6:\"F\",7:\"G\", 8:\"H\",9:\"I\", 10:\"J\",11:\"K\", 12:\"L\",13:\"M\", \\\n",
    "    14:\"N\",15:\"O\", 16:\"P\",17:\"Q\", 18:\"R\",19:\"S\", 20:\"T\", 21:\"U\", 22:\"V\",23:\"W\", 24:\"X\", 25:\"Y\", 26:\"Z\"}\n",
    "\n",
    "\n",
    "for target_file in f_names:\n",
    "    img = openpyxl.drawing.image.Image(target_file)\n",
    "    ws.row_dimensions[set_row_index].height = HEIGHT\n",
    "    ws.column_dimensions[AtoI[set_col_index]].width = WIDTH\n",
    "    #座標を設定\n",
    "    if(CHANGE_LINE < set_col_index):\n",
    "        set_col_index = 1;\n",
    "        set_row_index += 1;\n",
    "    inCellLetter = AtoI[set_col_index]+str(set_row_index)\n",
    "      \n",
    "    #貼り付ける\n",
    "    ws.add_image(img, inCellLetter)\n",
    "    set_col_index += 1;\n",
    "print(\"paste end\")\n",
    "# ファイルへの書き込み\n",
    "wb.save(RESULT_FILE_NAME)"
   ]
  },
  {
   "cell_type": "code",
   "execution_count": null,
   "metadata": {},
   "outputs": [],
   "source": []
  }
 ],
 "metadata": {
  "kernelspec": {
   "display_name": "Python 3",
   "language": "python",
   "name": "python3"
  },
  "language_info": {
   "codemirror_mode": {
    "name": "ipython",
    "version": 3
   },
   "file_extension": ".py",
   "mimetype": "text/x-python",
   "name": "python",
   "nbconvert_exporter": "python",
   "pygments_lexer": "ipython3",
   "version": "3.8.8"
  }
 },
 "nbformat": 4,
 "nbformat_minor": 4
}
