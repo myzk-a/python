{
 "cells": [
  {
   "cell_type": "code",
   "execution_count": null,
   "metadata": {},
   "outputs": [],
   "source": [
    "import cv2\n",
    "import numpy as np\n",
    "import glob\n",
    "import openpyxl"
   ]
  },
  {
   "cell_type": "code",
   "execution_count": null,
   "metadata": {},
   "outputs": [],
   "source": [
    "width = 512\n",
    "height = 256\n",
    "delete_string = 12"
   ]
  },
  {
   "cell_type": "code",
   "execution_count": null,
   "metadata": {},
   "outputs": [],
   "source": [
    "folders = glob.glob(\"data/*\")\n",
    "for folder in folders:\n",
    "    if 'pattern' in folder:\n",
    "        #画像に書き込みテキストを作成\n",
    "        text = folder[12:]\n",
    "        \n",
    "        #パスを取得\n",
    "        path_img_cat = folder+'/cat.jpg'\n",
    "        path_img_dog = folder+'/dog.jpg'\n",
    "        \n",
    "        #画像を開く\n",
    "        img_cat = cv2.imread(path_img_cat)\n",
    "        img_dog = cv2.imread(path_img_dog)\n",
    "        \n",
    "        if((not(img_cat is None)) and (not(img_dog is None))):\n",
    "            img_cat = cv2.cvtColor(img_cat, cv2.COLOR_BGR2RGB)\n",
    "            img_dog = cv2.cvtColor(img_dog, cv2.COLOR_BGR2RGB)\n",
    "            \n",
    "            #画像サイズを調整\n",
    "            img_cat = cv2.resize(img_cat, (width, height))\n",
    "            img_dog = cv2.resize(img_dog, (width, height))\n",
    "            \n",
    "            overlayed = cv2.addWeighted(src1=img_cat,alpha=0.35,src2=img_dog,beta=0.65,gamma=0)#alphaとbetaをいじって透過具合を調整\n",
    "            overlayed = cv2.cvtColor(overlayed, cv2.COLOR_BGR2RGB)\n",
    "            \n",
    "            cv2.putText(overlayed, text, (10, 30), cv2.FONT_HERSHEY_COMPLEX, 1.2, (255, 255, 255), 1, cv2.LINE_AA)#(10,30):文字開始位置, 1.2:フォントサイズ, 1:太さ\n",
    "            cv2.imwrite('./overlayed/'+text+'.jpg',overlayed)\n",
    "        \n",
    "print('overlay complete')"
   ]
  },
  {
   "cell_type": "code",
   "execution_count": null,
   "metadata": {},
   "outputs": [],
   "source": []
  }
 ],
 "metadata": {
  "kernelspec": {
   "display_name": "Python 3",
   "language": "python",
   "name": "python3"
  },
  "language_info": {
   "codemirror_mode": {
    "name": "ipython",
    "version": 3
   },
   "file_extension": ".py",
   "mimetype": "text/x-python",
   "name": "python",
   "nbconvert_exporter": "python",
   "pygments_lexer": "ipython3",
   "version": "3.8.8"
  }
 },
 "nbformat": 4,
 "nbformat_minor": 4
}
