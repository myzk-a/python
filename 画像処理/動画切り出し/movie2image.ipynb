{
 "cells": [
  {
   "cell_type": "code",
   "execution_count": null,
   "metadata": {},
   "outputs": [],
   "source": [
    "import cv2\n",
    "import numpy as np\n",
    "import os"
   ]
  },
  {
   "cell_type": "code",
   "execution_count": null,
   "metadata": {},
   "outputs": [],
   "source": [
    "i=0\n",
    "count = 0\n",
    "cpf = 100                         #何フレーム毎に切り出すか\n",
    "\n",
    "#画像のサイズ\n",
    "image_width = 256\n",
    "image_heigh = 256\n",
    "#ボケ画像判定のためのlaplacian.var\n",
    "laplacian_thr = 10             #ボケ画像判定をするときのスレッショルド"
   ]
  },
  {
   "cell_type": "code",
   "execution_count": null,
   "metadata": {},
   "outputs": [],
   "source": [
    "cap = cv2.VideoCapture('./movie.mp4')"
   ]
  },
  {
   "cell_type": "code",
   "execution_count": null,
   "metadata": {},
   "outputs": [],
   "source": [
    "while(cap.isOpened()):\n",
    "    ret, frame = cap.read()                   #動画を読み込む\n",
    "    #assert frame, \"オープンに失敗\"            #デバッグ用\n",
    "\n",
    "    if ret == False:\n",
    "        print('Finished')                    #動画の切り出しが終了した時\n",
    "        break\n",
    "\n",
    "    if count%cpf == 0:                      #何フレームに１回切り出すか\n",
    "\n",
    "        #サイズを小さくする\n",
    "        resize_frame = cv2.resize(frame,(image_width,image_heigh))\n",
    "\n",
    "         #画像がぶれていないか確認する\n",
    "        laplacian = cv2.Laplacian(resize_frame, cv2.CV_64F)\n",
    "        if ret and laplacian.var() >= laplacian_thr: # ピンぼけ判定がしきい値以上のもののみ出力\n",
    "\n",
    "            #第１引数画像のファイル名、第２引数保存したい画像\n",
    "            image_name = 'image/' + str(count) + '.jpg'\n",
    "            write = cv2.imwrite(image_name, resize_frame)  # 切り出した画像を表示する\n",
    "            assert write, \"保存に失敗\"\n",
    "            i += 1\n",
    "        else:\n",
    "            print(\"{}フレーム目、ピンボケ\".format(count), \"laplacian.var() = \", laplacian.var())\n",
    "    count = count + 1\n",
    "cap.release()"
   ]
  },
  {
   "cell_type": "code",
   "execution_count": null,
   "metadata": {},
   "outputs": [],
   "source": []
  }
 ],
 "metadata": {
  "kernelspec": {
   "display_name": "Python 3",
   "language": "python",
   "name": "python3"
  },
  "language_info": {
   "codemirror_mode": {
    "name": "ipython",
    "version": 3
   },
   "file_extension": ".py",
   "mimetype": "text/x-python",
   "name": "python",
   "nbconvert_exporter": "python",
   "pygments_lexer": "ipython3",
   "version": "3.8.8"
  }
 },
 "nbformat": 4,
 "nbformat_minor": 4
}
